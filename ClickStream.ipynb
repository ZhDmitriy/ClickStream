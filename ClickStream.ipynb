{
 "cells": [
  {
   "cell_type": "code",
   "execution_count": 50,
   "id": "7e56b7e2",
   "metadata": {},
   "outputs": [],
   "source": [
    "import pandas as pd\n",
    "import matplotlib.pyplot as plt"
   ]
  },
  {
   "cell_type": "code",
   "execution_count": 58,
   "id": "0e644178",
   "metadata": {},
   "outputs": [],
   "source": [
    "DATA = pd.read_excel(\"click_stream3.xlsx\")"
   ]
  },
  {
   "cell_type": "code",
   "execution_count": 59,
   "id": "e289c544",
   "metadata": {},
   "outputs": [
    {
     "data": {
      "text/html": [
       "<div>\n",
       "<style scoped>\n",
       "    .dataframe tbody tr th:only-of-type {\n",
       "        vertical-align: middle;\n",
       "    }\n",
       "\n",
       "    .dataframe tbody tr th {\n",
       "        vertical-align: top;\n",
       "    }\n",
       "\n",
       "    .dataframe thead th {\n",
       "        text-align: right;\n",
       "    }\n",
       "</style>\n",
       "<table border=\"1\" class=\"dataframe\">\n",
       "  <thead>\n",
       "    <tr style=\"text-align: right;\">\n",
       "      <th></th>\n",
       "      <th>id</th>\n",
       "      <th>page</th>\n",
       "      <th>data</th>\n",
       "      <th>user_int</th>\n",
       "      <th>pol</th>\n",
       "    </tr>\n",
       "  </thead>\n",
       "  <tbody>\n",
       "    <tr>\n",
       "      <th>0</th>\n",
       "      <td>313593</td>\n",
       "      <td>1_home_page</td>\n",
       "      <td>2015-02-26</td>\n",
       "      <td>Desktop</td>\n",
       "      <td>Female</td>\n",
       "    </tr>\n",
       "    <tr>\n",
       "      <th>1</th>\n",
       "      <td>468315</td>\n",
       "      <td>1_home_page</td>\n",
       "      <td>2015-02-21</td>\n",
       "      <td>Desktop</td>\n",
       "      <td>Male</td>\n",
       "    </tr>\n",
       "    <tr>\n",
       "      <th>2</th>\n",
       "      <td>264005</td>\n",
       "      <td>1_home_page</td>\n",
       "      <td>2015-03-25</td>\n",
       "      <td>Desktop</td>\n",
       "      <td>Female</td>\n",
       "    </tr>\n",
       "    <tr>\n",
       "      <th>3</th>\n",
       "      <td>290784</td>\n",
       "      <td>1_home_page</td>\n",
       "      <td>2015-03-14</td>\n",
       "      <td>Desktop</td>\n",
       "      <td>Male</td>\n",
       "    </tr>\n",
       "    <tr>\n",
       "      <th>4</th>\n",
       "      <td>639104</td>\n",
       "      <td>1_home_page</td>\n",
       "      <td>2015-01-03</td>\n",
       "      <td>Desktop</td>\n",
       "      <td>Female</td>\n",
       "    </tr>\n",
       "  </tbody>\n",
       "</table>\n",
       "</div>"
      ],
      "text/plain": [
       "      id          page       data user_int     pol\n",
       "0  313593  1_home_page 2015-02-26  Desktop  Female\n",
       "1  468315  1_home_page 2015-02-21  Desktop    Male\n",
       "2  264005  1_home_page 2015-03-25  Desktop  Female\n",
       "3  290784  1_home_page 2015-03-14  Desktop    Male\n",
       "4  639104  1_home_page 2015-01-03  Desktop  Female"
      ]
     },
     "execution_count": 59,
     "metadata": {},
     "output_type": "execute_result"
    }
   ],
   "source": [
    "DATA.head(5)"
   ]
  },
  {
   "cell_type": "code",
   "execution_count": 64,
   "id": "0a9c6ed8",
   "metadata": {},
   "outputs": [
    {
     "name": "stdout",
     "output_type": "stream",
     "text": [
      "steps: ['1_home_page' '2_search_page' '3_payment_page'\n",
      " '4_payment_confirmation_page'], dats: ['2015-02-26T00:00:00.000000000' '2015-02-21T00:00:00.000000000'\n",
      " '2015-03-25T00:00:00.000000000' '2015-03-14T00:00:00.000000000'\n",
      " '2015-01-03T00:00:00.000000000']; Количество уникальных дат = 120\n"
     ]
    }
   ],
   "source": [
    "list_array_step = DATA['page'].unique()\n",
    "list_array_data = DATA['data'].unique()\n",
    "print(\"steps: {}, dats: {}; Количество уникальных дат = {}\".format(list_array_step, list_array_data[:5], len(list_array_data)))"
   ]
  },
  {
   "cell_type": "code",
   "execution_count": 181,
   "id": "8a3c1958",
   "metadata": {},
   "outputs": [
    {
     "data": {
      "text/plain": [
       "0         2\n",
       "1         2\n",
       "2         3\n",
       "3         3\n",
       "4         1\n",
       "         ..\n",
       "142077    1\n",
       "142078    2\n",
       "142079    2\n",
       "142080    3\n",
       "142081    1\n",
       "Name: data_month, Length: 142082, dtype: int64"
      ]
     },
     "execution_count": 181,
     "metadata": {},
     "output_type": "execute_result"
    }
   ],
   "source": [
    "DATA['data_month'] = pd.to_datetime(DATA.data)\n",
    "DATA['data_month'] = pd.DatetimeIndex(DATA['data_month']).month\n",
    "DATA['data_month']"
   ]
  },
  {
   "cell_type": "code",
   "execution_count": 182,
   "id": "f81ef611",
   "metadata": {},
   "outputs": [
    {
     "data": {
      "text/html": [
       "<div>\n",
       "<style scoped>\n",
       "    .dataframe tbody tr th:only-of-type {\n",
       "        vertical-align: middle;\n",
       "    }\n",
       "\n",
       "    .dataframe tbody tr th {\n",
       "        vertical-align: top;\n",
       "    }\n",
       "\n",
       "    .dataframe thead th {\n",
       "        text-align: right;\n",
       "    }\n",
       "</style>\n",
       "<table border=\"1\" class=\"dataframe\">\n",
       "  <thead>\n",
       "    <tr style=\"text-align: right;\">\n",
       "      <th></th>\n",
       "      <th>id</th>\n",
       "      <th>page</th>\n",
       "      <th>data</th>\n",
       "      <th>user_int</th>\n",
       "      <th>pol</th>\n",
       "      <th>data_month</th>\n",
       "    </tr>\n",
       "  </thead>\n",
       "  <tbody>\n",
       "    <tr>\n",
       "      <th>0</th>\n",
       "      <td>313593</td>\n",
       "      <td>1_home_page</td>\n",
       "      <td>2015-02-26</td>\n",
       "      <td>Desktop</td>\n",
       "      <td>Female</td>\n",
       "      <td>2</td>\n",
       "    </tr>\n",
       "    <tr>\n",
       "      <th>1</th>\n",
       "      <td>468315</td>\n",
       "      <td>1_home_page</td>\n",
       "      <td>2015-02-21</td>\n",
       "      <td>Desktop</td>\n",
       "      <td>Male</td>\n",
       "      <td>2</td>\n",
       "    </tr>\n",
       "    <tr>\n",
       "      <th>2</th>\n",
       "      <td>264005</td>\n",
       "      <td>1_home_page</td>\n",
       "      <td>2015-03-25</td>\n",
       "      <td>Desktop</td>\n",
       "      <td>Female</td>\n",
       "      <td>3</td>\n",
       "    </tr>\n",
       "    <tr>\n",
       "      <th>3</th>\n",
       "      <td>290784</td>\n",
       "      <td>1_home_page</td>\n",
       "      <td>2015-03-14</td>\n",
       "      <td>Desktop</td>\n",
       "      <td>Male</td>\n",
       "      <td>3</td>\n",
       "    </tr>\n",
       "    <tr>\n",
       "      <th>4</th>\n",
       "      <td>639104</td>\n",
       "      <td>1_home_page</td>\n",
       "      <td>2015-01-03</td>\n",
       "      <td>Desktop</td>\n",
       "      <td>Female</td>\n",
       "      <td>1</td>\n",
       "    </tr>\n",
       "  </tbody>\n",
       "</table>\n",
       "</div>"
      ],
      "text/plain": [
       "      id          page       data user_int     pol  data_month\n",
       "0  313593  1_home_page 2015-02-26  Desktop  Female           2\n",
       "1  468315  1_home_page 2015-02-21  Desktop    Male           2\n",
       "2  264005  1_home_page 2015-03-25  Desktop  Female           3\n",
       "3  290784  1_home_page 2015-03-14  Desktop    Male           3\n",
       "4  639104  1_home_page 2015-01-03  Desktop  Female           1"
      ]
     },
     "execution_count": 182,
     "metadata": {},
     "output_type": "execute_result"
    }
   ],
   "source": [
    "DATA.head(5)"
   ]
  },
  {
   "cell_type": "code",
   "execution_count": 187,
   "id": "4237de59",
   "metadata": {},
   "outputs": [
    {
     "data": {
      "text/plain": [
       "array([1, 2, 3, 4], dtype=int64)"
      ]
     },
     "execution_count": 187,
     "metadata": {},
     "output_type": "execute_result"
    }
   ],
   "source": [
    "list_array_data_month = DATA['data_month'].unique()\n",
    "list_array_data_month.sort()\n",
    "list_array_data_month"
   ]
  },
  {
   "cell_type": "code",
   "execution_count": 72,
   "id": "1178787a",
   "metadata": {},
   "outputs": [
    {
     "data": {
      "text/plain": [
       "{'1_home_page': 90400,\n",
       " '2_search_page': 45200,\n",
       " '3_payment_page': 6030,\n",
       " '4_payment_confirmation_page': 452}"
      ]
     },
     "execution_count": 72,
     "metadata": {},
     "output_type": "execute_result"
    }
   ],
   "source": [
    "dict_toonel = {}\n",
    "data_page = DATA['page']\n",
    "\n",
    "for step in list_array_step:\n",
    "    dict_toonel[step] = data_page[data_page == step].count()\n",
    "\n",
    "dict_toonel"
   ]
  },
  {
   "cell_type": "code",
   "execution_count": 188,
   "id": "81a93ef3",
   "metadata": {},
   "outputs": [
    {
     "data": {
      "image/png": "[encoded data removed]",
      "text/plain": [
       "<Figure size 640x480 with 1 Axes>"
      ]
     },
     "metadata": {},
     "output_type": "display_data"
    }
   ],
   "source": [
    "plt.barh(list(dict_toonel.keys()), list(dict_toonel.values()), color=['red', 'blue'])\n",
    "plt.gca().invert_yaxis()\n",
    "plt.title(\"ClickStream за 1, 2, 3, 4 месяц\")\n",
    "plt.text(5, 0.08, f\"    ({dict_toonel['1_home_page']}) 100%\")\n",
    "plt.text(5, 1.08, f\"    ({dict_toonel['2_search_page']}) {int((dict_toonel['2_search_page']/dict_toonel['1_home_page'])*100)}%\")\n",
    "plt.text(5, 2.08, f\"    ({dict_toonel['3_payment_page']}) {int((dict_toonel['3_payment_page']/dict_toonel['2_search_page'])*100)}%\")\n",
    "plt.text(5, 3.08, f\"    ({dict_toonel['4_payment_confirmation_page']}) {int((dict_toonel['4_payment_confirmation_page']/dict_toonel['3_payment_page'])*100)}%\")\n",
    "plt.show()"
   ]
  },
  {
   "cell_type": "code",
   "execution_count": 246,
   "id": "28953826",
   "metadata": {},
   "outputs": [],
   "source": [
    "dict_toonel_month = {}\n",
    "data_page = DATA[['page', 'data_month']]\n",
    "\n",
    "for step in list_array_step:\n",
    "    data_page = data_page[data_page['data_month'] == 4]\n",
    "    dict_toonel_month[step] = data_page[data_page == step].count()\n",
    "\n",
    "months_values = []\n",
    "\n",
    "for i in range(4):\n",
    "    months_values.append(list(dict_toonel_month.values())[i][0])"
   ]
  },
  {
   "cell_type": "code",
   "execution_count": 247,
   "id": "a96c77a1",
   "metadata": {},
   "outputs": [
    {
     "data": {
      "text/plain": [
       "[22600, 9080, 597, 46]"
      ]
     },
     "execution_count": 247,
     "metadata": {},
     "output_type": "execute_result"
    }
   ],
   "source": [
    "months_values"
   ]
  },
  {
   "cell_type": "markdown",
   "id": "ddb2a014",
   "metadata": {},
   "source": [
    "# ClickStream"
   ]
  },
  {
   "cell_type": "code",
   "execution_count": 238,
   "id": "14361905",
   "metadata": {},
   "outputs": [
    {
     "data": {
      "image/png": "[encoded data removed]",
      "text/plain": [
       "<Figure size 640x480 with 1 Axes>"
      ]
     },
     "metadata": {},
     "output_type": "display_data"
    }
   ],
   "source": [
    "plt.barh(list(dict_toonel.keys()), months_values, color=['red', 'blue'])\n",
    "plt.gca().invert_yaxis()\n",
    "plt.title(\"ClickStream за 1 месяц\")\n",
    "plt.show()"
   ]
  },
  {
   "cell_type": "code",
   "execution_count": 241,
   "id": "7020c9ae",
   "metadata": {},
   "outputs": [
    {
     "data": {
      "image/png": "[encoded data removed]",
      "text/plain": [
       "<Figure size 640x480 with 1 Axes>"
      ]
     },
     "metadata": {},
     "output_type": "display_data"
    }
   ],
   "source": [
    "plt.barh(list(dict_toonel.keys()), months_values, color=['red', 'blue'])\n",
    "plt.gca().invert_yaxis()\n",
    "plt.title(\"ClickStream за 2 месяц\")\n",
    "plt.show()"
   ]
  },
  {
   "cell_type": "code",
   "execution_count": 245,
   "id": "03fb3c04",
   "metadata": {},
   "outputs": [
    {
     "data": {
      "image/png": "[encoded data removed]",
      "text/plain": [
       "<Figure size 640x480 with 1 Axes>"
      ]
     },
     "metadata": {},
     "output_type": "display_data"
    }
   ],
   "source": [
    "plt.barh(list(dict_toonel.keys()), months_values, color=['red', 'blue'])\n",
    "plt.gca().invert_yaxis()\n",
    "plt.title(\"ClickStream за 3 месяц\")\n",
    "plt.show()"
   ]
  },
  {
   "cell_type": "code",
   "execution_count": 249,
   "id": "73e345e2",
   "metadata": {},
   "outputs": [
    {
     "data": {
      "image/png": "[encoded data removed]",
      "text/plain": [
       "<Figure size 640x480 with 1 Axes>"
      ]
     },
     "metadata": {},
     "output_type": "display_data"
    }
   ],
   "source": [
    "plt.barh(list(dict_toonel.keys()), months_values, color=['red', 'blue'])\n",
    "plt.gca().invert_yaxis()\n",
    "plt.title(\"ClickStream за 4 месяц\")\n",
    "plt.show()"
   ]
  },
  {
   "cell_type": "code",
   "execution_count": 274,
   "id": "f65de6d9",
   "metadata": {},
   "outputs": [
    {
     "data": {
      "text/html": [
       "<div>\n",
       "<style scoped>\n",
       "    .dataframe tbody tr th:only-of-type {\n",
       "        vertical-align: middle;\n",
       "    }\n",
       "\n",
       "    .dataframe tbody tr th {\n",
       "        vertical-align: top;\n",
       "    }\n",
       "\n",
       "    .dataframe thead th {\n",
       "        text-align: right;\n",
       "    }\n",
       "</style>\n",
       "<table border=\"1\" class=\"dataframe\">\n",
       "  <thead>\n",
       "    <tr style=\"text-align: right;\">\n",
       "      <th></th>\n",
       "      <th>id</th>\n",
       "      <th>page</th>\n",
       "      <th>data</th>\n",
       "      <th>user_int</th>\n",
       "      <th>pol</th>\n",
       "      <th>data_month</th>\n",
       "    </tr>\n",
       "  </thead>\n",
       "  <tbody>\n",
       "    <tr>\n",
       "      <th>0</th>\n",
       "      <td>313593</td>\n",
       "      <td>1_home_page</td>\n",
       "      <td>2015-02-26</td>\n",
       "      <td>Desktop</td>\n",
       "      <td>Female</td>\n",
       "      <td>2</td>\n",
       "    </tr>\n",
       "    <tr>\n",
       "      <th>1</th>\n",
       "      <td>468315</td>\n",
       "      <td>1_home_page</td>\n",
       "      <td>2015-02-21</td>\n",
       "      <td>Desktop</td>\n",
       "      <td>Male</td>\n",
       "      <td>2</td>\n",
       "    </tr>\n",
       "    <tr>\n",
       "      <th>2</th>\n",
       "      <td>264005</td>\n",
       "      <td>1_home_page</td>\n",
       "      <td>2015-03-25</td>\n",
       "      <td>Desktop</td>\n",
       "      <td>Female</td>\n",
       "      <td>3</td>\n",
       "    </tr>\n",
       "    <tr>\n",
       "      <th>3</th>\n",
       "      <td>290784</td>\n",
       "      <td>1_home_page</td>\n",
       "      <td>2015-03-14</td>\n",
       "      <td>Desktop</td>\n",
       "      <td>Male</td>\n",
       "      <td>3</td>\n",
       "    </tr>\n",
       "    <tr>\n",
       "      <th>4</th>\n",
       "      <td>639104</td>\n",
       "      <td>1_home_page</td>\n",
       "      <td>2015-01-03</td>\n",
       "      <td>Desktop</td>\n",
       "      <td>Female</td>\n",
       "      <td>1</td>\n",
       "    </tr>\n",
       "    <tr>\n",
       "      <th>5</th>\n",
       "      <td>262889</td>\n",
       "      <td>1_home_page</td>\n",
       "      <td>2015-01-10</td>\n",
       "      <td>Mobile</td>\n",
       "      <td>Male</td>\n",
       "      <td>1</td>\n",
       "    </tr>\n",
       "    <tr>\n",
       "      <th>6</th>\n",
       "      <td>708793</td>\n",
       "      <td>1_home_page</td>\n",
       "      <td>2015-04-24</td>\n",
       "      <td>Mobile</td>\n",
       "      <td>Female</td>\n",
       "      <td>4</td>\n",
       "    </tr>\n",
       "    <tr>\n",
       "      <th>7</th>\n",
       "      <td>943143</td>\n",
       "      <td>1_home_page</td>\n",
       "      <td>2015-04-10</td>\n",
       "      <td>Desktop</td>\n",
       "      <td>Male</td>\n",
       "      <td>4</td>\n",
       "    </tr>\n",
       "    <tr>\n",
       "      <th>8</th>\n",
       "      <td>417894</td>\n",
       "      <td>1_home_page</td>\n",
       "      <td>2015-04-02</td>\n",
       "      <td>Mobile</td>\n",
       "      <td>Female</td>\n",
       "      <td>4</td>\n",
       "    </tr>\n",
       "    <tr>\n",
       "      <th>9</th>\n",
       "      <td>729374</td>\n",
       "      <td>1_home_page</td>\n",
       "      <td>2015-04-12</td>\n",
       "      <td>Desktop</td>\n",
       "      <td>Male</td>\n",
       "      <td>4</td>\n",
       "    </tr>\n",
       "  </tbody>\n",
       "</table>\n",
       "</div>"
      ],
      "text/plain": [
       "      id          page       data user_int     pol  data_month\n",
       "0  313593  1_home_page 2015-02-26  Desktop  Female           2\n",
       "1  468315  1_home_page 2015-02-21  Desktop    Male           2\n",
       "2  264005  1_home_page 2015-03-25  Desktop  Female           3\n",
       "3  290784  1_home_page 2015-03-14  Desktop    Male           3\n",
       "4  639104  1_home_page 2015-01-03  Desktop  Female           1\n",
       "5  262889  1_home_page 2015-01-10   Mobile    Male           1\n",
       "6  708793  1_home_page 2015-04-24   Mobile  Female           4\n",
       "7  943143  1_home_page 2015-04-10  Desktop    Male           4\n",
       "8  417894  1_home_page 2015-04-02   Mobile  Female           4\n",
       "9  729374  1_home_page 2015-04-12  Desktop    Male           4"
      ]
     },
     "execution_count": 274,
     "metadata": {},
     "output_type": "execute_result"
    }
   ],
   "source": [
    "DATA.head(10)"
   ]
  },
  {
   "cell_type": "markdown",
   "id": "26d82ab3",
   "metadata": {},
   "source": [
    "# Desktop"
   ]
  },
  {
   "cell_type": "code",
   "execution_count": 292,
   "id": "6a89c16a",
   "metadata": {},
   "outputs": [
    {
     "data": {
      "text/plain": [
       "1_home_page                    15050\n",
       "2_search_page                   7529\n",
       "3_payment_page                  1221\n",
       "4_payment_confirmation_page       60\n",
       "Name: page, dtype: int64"
      ]
     },
     "execution_count": 292,
     "metadata": {},
     "output_type": "execute_result"
    }
   ],
   "source": [
    "DATA[(DATA['data_month'] == 1) & (DATA['user_int'] == 'Desktop')]['page'].value_counts()"
   ]
  },
  {
   "cell_type": "code",
   "execution_count": 293,
   "id": "841ba4f5",
   "metadata": {},
   "outputs": [
    {
     "data": {
      "text/plain": [
       "1_home_page                    15050\n",
       "2_search_page                   7632\n",
       "3_payment_page                  1191\n",
       "4_payment_confirmation_page       54\n",
       "Name: page, dtype: int64"
      ]
     },
     "execution_count": 293,
     "metadata": {},
     "output_type": "execute_result"
    }
   ],
   "source": [
    "DATA[(DATA['data_month'] == 2) & (DATA['user_int'] == 'Desktop')]['page'].value_counts()"
   ]
  },
  {
   "cell_type": "code",
   "execution_count": 288,
   "id": "ef5bf84f",
   "metadata": {},
   "outputs": [
    {
     "data": {
      "text/plain": [
       "1_home_page                    15050\n",
       "2_search_page                   7370\n",
       "3_payment_page                   296\n",
       "4_payment_confirmation_page       14\n",
       "Name: page, dtype: int64"
      ]
     },
     "execution_count": 288,
     "metadata": {},
     "output_type": "execute_result"
    }
   ],
   "source": [
    "DATA[(DATA['data_month'] == 3) & (DATA['user_int'] == 'Desktop')]['page'].value_counts()"
   ]
  },
  {
   "cell_type": "code",
   "execution_count": 294,
   "id": "e3c34e7d",
   "metadata": {
    "scrolled": true
   },
   "outputs": [
    {
     "data": {
      "text/plain": [
       "1_home_page                    15050\n",
       "2_search_page                   7569\n",
       "3_payment_page                   302\n",
       "4_payment_confirmation_page       22\n",
       "Name: page, dtype: int64"
      ]
     },
     "execution_count": 294,
     "metadata": {},
     "output_type": "execute_result"
    }
   ],
   "source": [
    "DATA[(DATA['data_month'] == 4) & (DATA['user_int'] == 'Desktop')]['page'].value_counts()"
   ]
  },
  {
   "cell_type": "markdown",
   "id": "9a912054",
   "metadata": {},
   "source": [
    "# Mobile"
   ]
  },
  {
   "cell_type": "code",
   "execution_count": 297,
   "id": "c3ea4369",
   "metadata": {},
   "outputs": [
    {
     "data": {
      "text/plain": [
       "1_home_page                    7550\n",
       "2_search_page                  6025\n",
       "3_payment_page                 1169\n",
       "4_payment_confirmation_page     129\n",
       "Name: page, dtype: int64"
      ]
     },
     "execution_count": 297,
     "metadata": {},
     "output_type": "execute_result"
    }
   ],
   "source": [
    "DATA[(DATA['data_month'] == 1) & (DATA['user_int'] == 'Mobile')]['page'].value_counts()"
   ]
  },
  {
   "cell_type": "code",
   "execution_count": 298,
   "id": "dcc80e5c",
   "metadata": {},
   "outputs": [
    {
     "data": {
      "text/plain": [
       "1_home_page                    7550\n",
       "2_search_page                  6055\n",
       "3_payment_page                 1221\n",
       "4_payment_confirmation_page     119\n",
       "Name: page, dtype: int64"
      ]
     },
     "execution_count": 298,
     "metadata": {},
     "output_type": "execute_result"
    }
   ],
   "source": [
    "DATA[(DATA['data_month'] == 2) & (DATA['user_int'] == 'Mobile')]['page'].value_counts()"
   ]
  },
  {
   "cell_type": "code",
   "execution_count": 299,
   "id": "40a2612f",
   "metadata": {},
   "outputs": [
    {
     "data": {
      "text/plain": [
       "1_home_page                    7550\n",
       "2_search_page                  1509\n",
       "3_payment_page                  335\n",
       "4_payment_confirmation_page      30\n",
       "Name: page, dtype: int64"
      ]
     },
     "execution_count": 299,
     "metadata": {},
     "output_type": "execute_result"
    }
   ],
   "source": [
    "DATA[(DATA['data_month'] == 3) & (DATA['user_int'] == 'Mobile')]['page'].value_counts()"
   ]
  },
  {
   "cell_type": "code",
   "execution_count": 300,
   "id": "19cdf861",
   "metadata": {},
   "outputs": [
    {
     "data": {
      "text/plain": [
       "1_home_page                    7550\n",
       "2_search_page                  1511\n",
       "3_payment_page                  295\n",
       "4_payment_confirmation_page      24\n",
       "Name: page, dtype: int64"
      ]
     },
     "execution_count": 300,
     "metadata": {},
     "output_type": "execute_result"
    }
   ],
   "source": [
    "DATA[(DATA['data_month'] == 4) & (DATA['user_int'] == 'Mobile')]['page'].value_counts()"
   ]
  },
  {
   "cell_type": "markdown",
   "id": "1466008c",
   "metadata": {},
   "source": [
    "# Female"
   ]
  },
  {
   "cell_type": "code",
   "execution_count": 310,
   "id": "bbcbe05e",
   "metadata": {},
   "outputs": [
    {
     "data": {
      "text/plain": [
       "1_home_page                    11212\n",
       "2_search_page                   4489\n",
       "3_payment_page                   285\n",
       "4_payment_confirmation_page       20\n",
       "Name: page, dtype: int64"
      ]
     },
     "execution_count": 310,
     "metadata": {},
     "output_type": "execute_result"
    }
   ],
   "source": [
    "data_4 = DATA[(DATA['data_month'] == 4) & (DATA['pol'] == 'Female')]['page'].value_counts()\n",
    "data_4"
   ]
  },
  {
   "cell_type": "code",
   "execution_count": 314,
   "id": "dba133d0",
   "metadata": {},
   "outputs": [
    {
     "data": {
      "text/plain": [
       "0.178"
      ]
     },
     "execution_count": 314,
     "metadata": {},
     "output_type": "execute_result"
    }
   ],
   "source": [
    "round((data_4['4_payment_confirmation_page']/data_4['1_home_page'])*100, 3)"
   ]
  },
  {
   "cell_type": "code",
   "execution_count": 315,
   "id": "995eae76",
   "metadata": {},
   "outputs": [
    {
     "data": {
      "text/plain": [
       "1_home_page                    11250\n",
       "2_search_page                   4454\n",
       "3_payment_page                   337\n",
       "4_payment_confirmation_page       26\n",
       "Name: page, dtype: int64"
      ]
     },
     "execution_count": 315,
     "metadata": {},
     "output_type": "execute_result"
    }
   ],
   "source": [
    "data_3 = DATA[(DATA['data_month'] == 3) & (DATA['pol'] == 'Female')]['page'].value_counts()\n",
    "data_3"
   ]
  },
  {
   "cell_type": "code",
   "execution_count": 316,
   "id": "95f45b68",
   "metadata": {},
   "outputs": [
    {
     "data": {
      "text/plain": [
       "0.231"
      ]
     },
     "execution_count": 316,
     "metadata": {},
     "output_type": "execute_result"
    }
   ],
   "source": [
    "round((data_3['4_payment_confirmation_page']/data_3['1_home_page'])*100, 3)"
   ]
  },
  {
   "cell_type": "code",
   "execution_count": 317,
   "id": "1e8ba4e7",
   "metadata": {},
   "outputs": [
    {
     "data": {
      "text/plain": [
       "1_home_page                    11199\n",
       "2_search_page                   6820\n",
       "3_payment_page                  1235\n",
       "4_payment_confirmation_page       86\n",
       "Name: page, dtype: int64"
      ]
     },
     "execution_count": 317,
     "metadata": {},
     "output_type": "execute_result"
    }
   ],
   "source": [
    "data_2 = DATA[(DATA['data_month'] == 2) & (DATA['pol'] == 'Female')]['page'].value_counts()\n",
    "data_2"
   ]
  },
  {
   "cell_type": "code",
   "execution_count": 318,
   "id": "8ae845f2",
   "metadata": {},
   "outputs": [
    {
     "data": {
      "text/plain": [
       "0.768"
      ]
     },
     "execution_count": 318,
     "metadata": {},
     "output_type": "execute_result"
    }
   ],
   "source": [
    "round((data_2['4_payment_confirmation_page']/data_2['1_home_page'])*100, 3)"
   ]
  },
  {
   "cell_type": "code",
   "execution_count": 319,
   "id": "e5ee833d",
   "metadata": {},
   "outputs": [
    {
     "data": {
      "text/plain": [
       "1_home_page                    11414\n",
       "2_search_page                   6913\n",
       "3_payment_page                  1243\n",
       "4_payment_confirmation_page      109\n",
       "Name: page, dtype: int64"
      ]
     },
     "execution_count": 319,
     "metadata": {},
     "output_type": "execute_result"
    }
   ],
   "source": [
    "data_1 = DATA[(DATA['data_month'] == 1) & (DATA['pol'] == 'Female')]['page'].value_counts()\n",
    "data_1"
   ]
  },
  {
   "cell_type": "code",
   "execution_count": 320,
   "id": "0d2a8172",
   "metadata": {},
   "outputs": [
    {
     "data": {
      "text/plain": [
       "0.955"
      ]
     },
     "execution_count": 320,
     "metadata": {},
     "output_type": "execute_result"
    }
   ],
   "source": [
    "round((data_1['4_payment_confirmation_page']/data_1['1_home_page'])*100, 3)"
   ]
  },
  {
   "cell_type": "markdown",
   "id": "b5298a25",
   "metadata": {},
   "source": [
    "# Male"
   ]
  },
  {
   "cell_type": "code",
   "execution_count": 321,
   "id": "4899ced3",
   "metadata": {},
   "outputs": [
    {
     "data": {
      "text/plain": [
       "1_home_page                    11388\n",
       "2_search_page                   4591\n",
       "3_payment_page                   312\n",
       "4_payment_confirmation_page       26\n",
       "Name: page, dtype: int64"
      ]
     },
     "execution_count": 321,
     "metadata": {},
     "output_type": "execute_result"
    }
   ],
   "source": [
    "data_4 = DATA[(DATA['data_month'] == 4) & (DATA['pol'] == 'Male')]['page'].value_counts()\n",
    "data_4"
   ]
  },
  {
   "cell_type": "code",
   "execution_count": 322,
   "id": "d0cf6f76",
   "metadata": {},
   "outputs": [
    {
     "data": {
      "text/plain": [
       "0.228"
      ]
     },
     "execution_count": 322,
     "metadata": {},
     "output_type": "execute_result"
    }
   ],
   "source": [
    "round((data_4['4_payment_confirmation_page']/data_4['1_home_page'])*100, 3)"
   ]
  },
  {
   "cell_type": "code",
   "execution_count": 306,
   "id": "42aecb14",
   "metadata": {},
   "outputs": [
    {
     "data": {
      "text/plain": [
       "1_home_page                    11350\n",
       "2_search_page                   4425\n",
       "3_payment_page                   294\n",
       "4_payment_confirmation_page       18\n",
       "Name: page, dtype: int64"
      ]
     },
     "execution_count": 306,
     "metadata": {},
     "output_type": "execute_result"
    }
   ],
   "source": [
    "data_3 = DATA[(DATA['data_month'] == 3) & (DATA['pol'] == 'Male')]['page'].value_counts()\n",
    "data_3"
   ]
  },
  {
   "cell_type": "code",
   "execution_count": 323,
   "id": "e98cc090",
   "metadata": {},
   "outputs": [
    {
     "data": {
      "text/plain": [
       "0.231"
      ]
     },
     "execution_count": 323,
     "metadata": {},
     "output_type": "execute_result"
    }
   ],
   "source": [
    "round((data_3['4_payment_confirmation_page']/data_3['1_home_page'])*100, 3)"
   ]
  },
  {
   "cell_type": "code",
   "execution_count": 324,
   "id": "02129228",
   "metadata": {},
   "outputs": [
    {
     "data": {
      "text/plain": [
       "1_home_page                    11401\n",
       "2_search_page                   6867\n",
       "3_payment_page                  1177\n",
       "4_payment_confirmation_page       87\n",
       "Name: page, dtype: int64"
      ]
     },
     "execution_count": 324,
     "metadata": {},
     "output_type": "execute_result"
    }
   ],
   "source": [
    "data_2 = DATA[(DATA['data_month'] == 2) & (DATA['pol'] == 'Male')]['page'].value_counts()\n",
    "data_2"
   ]
  },
  {
   "cell_type": "code",
   "execution_count": 325,
   "id": "457f8277",
   "metadata": {},
   "outputs": [
    {
     "data": {
      "text/plain": [
       "0.763"
      ]
     },
     "execution_count": 325,
     "metadata": {},
     "output_type": "execute_result"
    }
   ],
   "source": [
    "round((data_2['4_payment_confirmation_page']/data_2['1_home_page'])*100, 3)"
   ]
  },
  {
   "cell_type": "code",
   "execution_count": 326,
   "id": "6616d831",
   "metadata": {},
   "outputs": [
    {
     "data": {
      "text/plain": [
       "1_home_page                    11186\n",
       "2_search_page                   6641\n",
       "3_payment_page                  1147\n",
       "4_payment_confirmation_page       80\n",
       "Name: page, dtype: int64"
      ]
     },
     "execution_count": 326,
     "metadata": {},
     "output_type": "execute_result"
    }
   ],
   "source": [
    "data_1 = DATA[(DATA['data_month'] == 1) & (DATA['pol'] == 'Male')]['page'].value_counts()\n",
    "data_1"
   ]
  },
  {
   "cell_type": "code",
   "execution_count": 327,
   "id": "a2a34f7d",
   "metadata": {},
   "outputs": [
    {
     "data": {
      "text/plain": [
       "0.715"
      ]
     },
     "execution_count": 327,
     "metadata": {},
     "output_type": "execute_result"
    }
   ],
   "source": [
    "round((data_1['4_payment_confirmation_page']/data_1['1_home_page'])*100, 3)"
   ]
  }
 ],
 "metadata": {
  "kernelspec": {
   "display_name": "Python 3 (ipykernel)",
   "language": "python",
   "name": "python3"
  },
  "language_info": {
   "codemirror_mode": {
    "name": "ipython",
    "version": 3
   },
   "file_extension": ".py",
   "mimetype": "text/x-python",
   "name": "python",
   "nbconvert_exporter": "python",
   "pygments_lexer": "ipython3",
   "version": "3.11.3"
  }
 },
 "nbformat": 4,
 "nbformat_minor": 5
}
